{
 "cells": [
  {
   "cell_type": "code",
   "execution_count": 8,
   "metadata": {},
   "outputs": [
    {
     "name": "stdout",
     "output_type": "stream",
     "text": [
      "1\n",
      "2\n",
      "3\n"
     ]
    }
   ],
   "source": [
    "class node:\n",
    "    def __init__(self, val, next=None):\n",
    "        self.val = val\n",
    "        self.next =next\n",
    "\n",
    "class LinkedList:\n",
    "    def __init__(self):\n",
    "        self.head = None\n",
    "\n",
    "    def addNode(self, val):\n",
    "        if not self.head:\n",
    "            #node does not exist\n",
    "            newNode = node(val)\n",
    "            self.head = newNode\n",
    "            self.tail  = newNode\n",
    "        else:\n",
    "            cur = self.head\n",
    "            while cur and cur.next :\n",
    "                cur = cur.next\n",
    "            newNode = node(val)\n",
    "            cur.next = newNode\n",
    "\n",
    "    def addNodeAt(self, val, pos):\n",
    "        \n",
    "        \n",
    "    def printList(self):\n",
    "        cur = self.head\n",
    "        while cur:\n",
    "            print(cur.val)\n",
    "            cur = cur.next\n",
    "ll =LinkedList()\n",
    "ll.addNode(1)\n",
    "ll.addNode(2)\n",
    "ll.addNode(3)\n",
    "ll.printList()\n"
   ]
  },
  {
   "cell_type": "code",
   "execution_count": null,
   "metadata": {},
   "outputs": [],
   "source": []
  }
 ],
 "metadata": {
  "kernelspec": {
   "display_name": "ai",
   "language": "python",
   "name": "python3"
  },
  "language_info": {
   "codemirror_mode": {
    "name": "ipython",
    "version": 3
   },
   "file_extension": ".py",
   "mimetype": "text/x-python",
   "name": "python",
   "nbconvert_exporter": "python",
   "pygments_lexer": "ipython3",
   "version": "3.11.9"
  }
 },
 "nbformat": 4,
 "nbformat_minor": 2
}
