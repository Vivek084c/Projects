{
 "cells": [
  {
   "cell_type": "code",
   "execution_count": 61,
   "metadata": {},
   "outputs": [],
   "source": [
    "import boto3\n",
    "import json"
   ]
  },
  {
   "cell_type": "code",
   "execution_count": 62,
   "metadata": {},
   "outputs": [],
   "source": [
    "prompt_data = \"\"\" \n",
    "what is the capital of india.?\n",
    "\"\"\"\n"
   ]
  },
  {
   "cell_type": "code",
   "execution_count": 63,
   "metadata": {},
   "outputs": [],
   "source": [
    "bedrock = boto3.client(service_name = \"bedrock-runtime\")"
   ]
  },
  {
   "cell_type": "code",
   "execution_count": 64,
   "metadata": {},
   "outputs": [],
   "source": [
    "# payload = {\n",
    "#     \"inputText\": prompt_data ,\n",
    "#     \"maxTokenCount\":30,\n",
    "#     \"temperature\":0.5,\n",
    "#     \"topP\":0.9\n",
    "# }\n",
    "\n",
    "body = {\n",
    "    \"inputText\": \"What is the capital of india\", \n",
    "    \"textGenerationConfig\": {\n",
    "        \"maxTokenCount\": 30,  # Adjust the maximum token count as needed\n",
    "        \"stopSequences\": [],   # List of stop sequences\n",
    "        \"temperature\": 0.7,    # Temperature for randomness\n",
    "        \"topP\": 1              # Top-p sampling parameter\n",
    "    }\n",
    "}\n"
   ]
  },
  {
   "cell_type": "code",
   "execution_count": 65,
   "metadata": {},
   "outputs": [],
   "source": [
    "body = json.dumps(body)"
   ]
  },
  {
   "cell_type": "code",
   "execution_count": 66,
   "metadata": {},
   "outputs": [],
   "source": [
    "model_id = \"amazon.titan-text-lite-v1\""
   ]
  },
  {
   "cell_type": "code",
   "execution_count": 67,
   "metadata": {},
   "outputs": [],
   "source": [
    "respnse  = bedrock.invoke_model(\n",
    "    modelId = model_id,\n",
    "    contentType = \"application/json\",\n",
    "    accept = \"application/json\",\n",
    "    body = body\n",
    ")"
   ]
  },
  {
   "cell_type": "code",
   "execution_count": 68,
   "metadata": {},
   "outputs": [
    {
     "ename": "AttributeError",
     "evalue": "'str' object has no attribute 'read'",
     "output_type": "error",
     "traceback": [
      "\u001b[0;31m---------------------------------------------------------------------------\u001b[0m",
      "\u001b[0;31mAttributeError\u001b[0m                            Traceback (most recent call last)",
      "Cell \u001b[0;32mIn[68], line 1\u001b[0m\n\u001b[0;32m----> 1\u001b[0m response_body \u001b[38;5;241m=\u001b[39m json\u001b[38;5;241m.\u001b[39mloads(respnse\u001b[38;5;241m.\u001b[39mget(\u001b[38;5;124;43m\"\u001b[39;49m\u001b[38;5;124;43mbody\u001b[39;49m\u001b[38;5;124;43m\"\u001b[39;49m\u001b[38;5;241;43m.\u001b[39;49m\u001b[43mread\u001b[49m()))\n\u001b[1;32m      2\u001b[0m \u001b[38;5;66;03m# response_text = response_body['generation']\u001b[39;00m\n",
      "\u001b[0;31mAttributeError\u001b[0m: 'str' object has no attribute 'read'"
     ]
    }
   ],
   "source": []
  },
  {
   "cell_type": "code",
   "execution_count": 69,
   "metadata": {},
   "outputs": [],
   "source": [
    "item = respnse[\"body\"].read()"
   ]
  },
  {
   "cell_type": "markdown",
   "metadata": {},
   "source": [
    "b'{\"inputTextTokenCount\":6,\"results\":[{\"tokenCount\":10,\"outputText\":\"\\\\nThe capital of India is New Delhi.\",\"completionReason\":\"FINISH\"}]}'"
   ]
  },
  {
   "cell_type": "code",
   "execution_count": 70,
   "metadata": {},
   "outputs": [
    {
     "data": {
      "text/plain": [
       "b'{\"inputTextTokenCount\":6,\"results\":[{\"tokenCount\":30,\"outputText\":\"\\\\nNew Delhi is the capital of India. It is located between 28\\xc2\\xb030\\xe2\\x80\\xb2N and 77\\xc2\\xb02\\xe2\\x80\\xb2E.\",\"completionReason\":\"LENGTH\"}]}'"
      ]
     },
     "execution_count": 70,
     "metadata": {},
     "output_type": "execute_result"
    }
   ],
   "source": [
    "item"
   ]
  },
  {
   "cell_type": "code",
   "execution_count": 71,
   "metadata": {},
   "outputs": [],
   "source": [
    "i = json.loads(item)"
   ]
  },
  {
   "cell_type": "code",
   "execution_count": 72,
   "metadata": {},
   "outputs": [
    {
     "data": {
      "text/plain": [
       "'\\nNew Delhi is the capital of India. It is located between 28°30′N and 77°2′E.'"
      ]
     },
     "execution_count": 72,
     "metadata": {},
     "output_type": "execute_result"
    }
   ],
   "source": [
    "i[\"results\"][0][\"outputText\"]"
   ]
  },
  {
   "cell_type": "markdown",
   "metadata": {},
   "source": [
    "# working with aws embedding"
   ]
  },
  {
   "cell_type": "markdown",
   "metadata": {},
   "source": [
    "### preprocessing the data"
   ]
  },
  {
   "cell_type": "code",
   "execution_count": 6,
   "metadata": {},
   "outputs": [],
   "source": [
    "import pandas as pd\n",
    "import numpy as np\n",
    "import os"
   ]
  },
  {
   "cell_type": "code",
   "execution_count": 5,
   "metadata": {},
   "outputs": [
    {
     "data": {
      "text/plain": [
       "'/Users/vivek/work/GIT/assignment/Lakshman Diwaakar/aws '"
      ]
     },
     "execution_count": 5,
     "metadata": {},
     "output_type": "execute_result"
    }
   ],
   "source": [
    "%pwd"
   ]
  },
  {
   "cell_type": "code",
   "execution_count": 7,
   "metadata": {},
   "outputs": [],
   "source": [
    "os.chdir(\"../\")"
   ]
  },
  {
   "cell_type": "code",
   "execution_count": 10,
   "metadata": {},
   "outputs": [],
   "source": [
    "df = pd.read_csv(\"data/mutula_fund.csv\")"
   ]
  },
  {
   "cell_type": "code",
   "execution_count": 45,
   "metadata": {},
   "outputs": [],
   "source": [
    "embedding_data = []"
   ]
  },
  {
   "cell_type": "code",
   "execution_count": null,
   "metadata": {},
   "outputs": [],
   "source": [
    "clms = list(df.columns)"
   ]
  },
  {
   "cell_type": "code",
   "execution_count": 16,
   "metadata": {},
   "outputs": [
    {
     "data": {
      "text/plain": [
       "['Fund Name',\n",
       " 'Month',\n",
       " 'Instrument Name',\n",
       " 'Percentage Allocation',\n",
       " 'Percentage Allocation Change',\n",
       " 'Instrument Count Across Funds',\n",
       " 'Category',\n",
       " 'Return (%)']"
      ]
     },
     "execution_count": 16,
     "metadata": {},
     "output_type": "execute_result"
    }
   ],
   "source": [
    "clms"
   ]
  },
  {
   "cell_type": "code",
   "execution_count": 33,
   "metadata": {},
   "outputs": [],
   "source": [
    "no_of_rows = len(df.iloc[:,0:1])"
   ]
  },
  {
   "cell_type": "code",
   "execution_count": 40,
   "metadata": {},
   "outputs": [
    {
     "data": {
      "text/plain": [
       "['Zerodha Midcap Fund',\n",
       " 'February 2024',\n",
       " 'HDFC Large Cap',\n",
       " np.float64(5.25),\n",
       " np.float64(-1.686143078135275),\n",
       " np.int64(1),\n",
       " 'Large Cap',\n",
       " np.float64(12.69)]"
      ]
     },
     "execution_count": 40,
     "metadata": {},
     "output_type": "execute_result"
    }
   ],
   "source": [
    "list(df.iloc[1,:])"
   ]
  },
  {
   "cell_type": "code",
   "execution_count": 46,
   "metadata": {},
   "outputs": [],
   "source": [
    "for i in range(no_of_rows):\n",
    "    data = list(df.iloc[i,:])\n",
    "    s = \"\"\n",
    "    for j in range(len(clms)):\n",
    "        s+=\" \"+str(clms[j])+\" \"+str(data[j])\n",
    "    embedding_data.append(s)\n",
    "    if i>4:\n",
    "        break"
   ]
  },
  {
   "cell_type": "code",
   "execution_count": 48,
   "metadata": {},
   "outputs": [
    {
     "name": "stdout",
     "output_type": "stream",
     "text": [
      " Fund Name Zerodha Midcap Fund Month January 2024 Instrument Name HDFC Large Cap Percentage Allocation 6.93 Percentage Allocation Change 0.0 Instrument Count Across Funds 3 Category Small Cap Return (%) 11.44\n",
      " Fund Name Zerodha Midcap Fund Month February 2024 Instrument Name HDFC Large Cap Percentage Allocation 5.25 Percentage Allocation Change -1.686143078135275 Instrument Count Across Funds 1 Category Large Cap Return (%) 12.69\n",
      " Fund Name Zerodha Midcap Fund Month March 2024 Instrument Name HDFC Large Cap Percentage Allocation 4.92 Percentage Allocation Change -0.3315197881022982 Instrument Count Across Funds 3 Category Small Cap Return (%) 11.53\n",
      " Fund Name Zerodha Midcap Fund Month April 2024 Instrument Name HDFC Large Cap Percentage Allocation 5.38 Percentage Allocation Change 0.4633003382439566 Instrument Count Across Funds 3 Category Small Cap Return (%) 11.51\n",
      " Fund Name Zerodha Midcap Fund Month January 2024 Instrument Name Zerodha Large Cap Percentage Allocation 18.09 Percentage Allocation Change 0.0 Instrument Count Across Funds 1 Category Mid Cap Return (%) 11.44\n",
      " Fund Name Zerodha Midcap Fund Month February 2024 Instrument Name Zerodha Large Cap Percentage Allocation 18.5 Percentage Allocation Change 0.40470469410756 Instrument Count Across Funds 2 Category Mid Cap Return (%) 12.69\n"
     ]
    }
   ],
   "source": [
    "for i in embedding_data:\n",
    "    print(i)"
   ]
  },
  {
   "cell_type": "code",
   "execution_count": null,
   "metadata": {},
   "outputs": [],
   "source": []
  }
 ],
 "metadata": {
  "kernelspec": {
   "display_name": "ai",
   "language": "python",
   "name": "python3"
  },
  "language_info": {
   "codemirror_mode": {
    "name": "ipython",
    "version": 3
   },
   "file_extension": ".py",
   "mimetype": "text/x-python",
   "name": "python",
   "nbconvert_exporter": "python",
   "pygments_lexer": "ipython3",
   "version": "3.11.9"
  }
 },
 "nbformat": 4,
 "nbformat_minor": 2
}
