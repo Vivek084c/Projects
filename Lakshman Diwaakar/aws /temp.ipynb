{
 "cells": [
  {
   "cell_type": "code",
   "execution_count": 61,
   "metadata": {},
   "outputs": [],
   "source": [
    "import boto3\n",
    "import json"
   ]
  },
  {
   "cell_type": "code",
   "execution_count": 62,
   "metadata": {},
   "outputs": [],
   "source": [
    "prompt_data = \"\"\" \n",
    "what is the capital of india.?\n",
    "\"\"\"\n"
   ]
  },
  {
   "cell_type": "code",
   "execution_count": 63,
   "metadata": {},
   "outputs": [],
   "source": [
    "bedrock = boto3.client(service_name = \"bedrock-runtime\")"
   ]
  },
  {
   "cell_type": "code",
   "execution_count": 64,
   "metadata": {},
   "outputs": [],
   "source": [
    "# payload = {\n",
    "#     \"inputText\": prompt_data ,\n",
    "#     \"maxTokenCount\":30,\n",
    "#     \"temperature\":0.5,\n",
    "#     \"topP\":0.9\n",
    "# }\n",
    "\n",
    "body = {\n",
    "    \"inputText\": \"What is the capital of india\", \n",
    "    \"textGenerationConfig\": {\n",
    "        \"maxTokenCount\": 30,  # Adjust the maximum token count as needed\n",
    "        \"stopSequences\": [],   # List of stop sequences\n",
    "        \"temperature\": 0.7,    # Temperature for randomness\n",
    "        \"topP\": 1              # Top-p sampling parameter\n",
    "    }\n",
    "}\n"
   ]
  },
  {
   "cell_type": "code",
   "execution_count": 65,
   "metadata": {},
   "outputs": [],
   "source": [
    "body = json.dumps(body)"
   ]
  },
  {
   "cell_type": "code",
   "execution_count": 66,
   "metadata": {},
   "outputs": [],
   "source": [
    "model_id = \"amazon.titan-text-lite-v1\""
   ]
  },
  {
   "cell_type": "code",
   "execution_count": 67,
   "metadata": {},
   "outputs": [],
   "source": [
    "respnse  = bedrock.invoke_model(\n",
    "    modelId = model_id,\n",
    "    contentType = \"application/json\",\n",
    "    accept = \"application/json\",\n",
    "    body = body\n",
    ")"
   ]
  },
  {
   "cell_type": "code",
   "execution_count": 68,
   "metadata": {},
   "outputs": [
    {
     "ename": "AttributeError",
     "evalue": "'str' object has no attribute 'read'",
     "output_type": "error",
     "traceback": [
      "\u001b[0;31m---------------------------------------------------------------------------\u001b[0m",
      "\u001b[0;31mAttributeError\u001b[0m                            Traceback (most recent call last)",
      "Cell \u001b[0;32mIn[68], line 1\u001b[0m\n\u001b[0;32m----> 1\u001b[0m response_body \u001b[38;5;241m=\u001b[39m json\u001b[38;5;241m.\u001b[39mloads(respnse\u001b[38;5;241m.\u001b[39mget(\u001b[38;5;124;43m\"\u001b[39;49m\u001b[38;5;124;43mbody\u001b[39;49m\u001b[38;5;124;43m\"\u001b[39;49m\u001b[38;5;241;43m.\u001b[39;49m\u001b[43mread\u001b[49m()))\n\u001b[1;32m      2\u001b[0m \u001b[38;5;66;03m# response_text = response_body['generation']\u001b[39;00m\n",
      "\u001b[0;31mAttributeError\u001b[0m: 'str' object has no attribute 'read'"
     ]
    }
   ],
   "source": []
  },
  {
   "cell_type": "code",
   "execution_count": 69,
   "metadata": {},
   "outputs": [],
   "source": [
    "item = respnse[\"body\"].read()"
   ]
  },
  {
   "cell_type": "markdown",
   "metadata": {},
   "source": [
    "b'{\"inputTextTokenCount\":6,\"results\":[{\"tokenCount\":10,\"outputText\":\"\\\\nThe capital of India is New Delhi.\",\"completionReason\":\"FINISH\"}]}'"
   ]
  },
  {
   "cell_type": "code",
   "execution_count": 70,
   "metadata": {},
   "outputs": [
    {
     "data": {
      "text/plain": [
       "b'{\"inputTextTokenCount\":6,\"results\":[{\"tokenCount\":30,\"outputText\":\"\\\\nNew Delhi is the capital of India. It is located between 28\\xc2\\xb030\\xe2\\x80\\xb2N and 77\\xc2\\xb02\\xe2\\x80\\xb2E.\",\"completionReason\":\"LENGTH\"}]}'"
      ]
     },
     "execution_count": 70,
     "metadata": {},
     "output_type": "execute_result"
    }
   ],
   "source": [
    "item"
   ]
  },
  {
   "cell_type": "code",
   "execution_count": 71,
   "metadata": {},
   "outputs": [],
   "source": [
    "i = json.loads(item)"
   ]
  },
  {
   "cell_type": "code",
   "execution_count": 72,
   "metadata": {},
   "outputs": [
    {
     "data": {
      "text/plain": [
       "'\\nNew Delhi is the capital of India. It is located between 28°30′N and 77°2′E.'"
      ]
     },
     "execution_count": 72,
     "metadata": {},
     "output_type": "execute_result"
    }
   ],
   "source": [
    "i[\"results\"][0][\"outputText\"]"
   ]
  },
  {
   "cell_type": "code",
   "execution_count": null,
   "metadata": {},
   "outputs": [],
   "source": []
  }
 ],
 "metadata": {
  "kernelspec": {
   "display_name": "ai",
   "language": "python",
   "name": "python3"
  },
  "language_info": {
   "codemirror_mode": {
    "name": "ipython",
    "version": 3
   },
   "file_extension": ".py",
   "mimetype": "text/x-python",
   "name": "python",
   "nbconvert_exporter": "python",
   "pygments_lexer": "ipython3",
   "version": "3.11.9"
  }
 },
 "nbformat": 4,
 "nbformat_minor": 2
}
